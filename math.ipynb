{
  "nbformat": 4,
  "nbformat_minor": 0,
  "metadata": {
    "kernelspec": {
      "display_name": "Python 3",
      "language": "python",
      "name": "python3"
    },
    "language_info": {
      "codemirror_mode": {
        "name": "ipython",
        "version": 3
      },
      "file_extension": ".py",
      "mimetype": "text/x-python",
      "name": "python",
      "nbconvert_exporter": "python",
      "pygments_lexer": "ipython3",
      "version": "3.7.4"
    },
    "colab": {
      "name": "if_it_helps.ipynb",
      "provenance": [],
      "collapsed_sections": [
        "SD6tN81qh0g4",
        "AoyzDwaXh0hq",
        "I9SFs3cRh0ig",
        "lo3waYHrh0jP",
        "CuvJnXfnh0jt",
        "7-tqeNsdh0kG"
      ],
      "include_colab_link": true
    }
  },
  "cells": [
    {
      "cell_type": "markdown",
      "metadata": {
        "id": "view-in-github",
        "colab_type": "text"
      },
      "source": [
        "<a href=\"https://colab.research.google.com/github/aayush1036/maths/blob/main/math.ipynb\" target=\"_parent\"><img src=\"https://colab.research.google.com/assets/colab-badge.svg\" alt=\"Open In Colab\"/></a>"
      ]
    },
    {
      "cell_type": "markdown",
      "metadata": {
        "id": "wrnxJN1Zh0cT"
      },
      "source": [
        "# Imports "
      ]
    },
    {
      "cell_type": "code",
      "metadata": {
        "id": "96HUtFeSh0c0"
      },
      "source": [
        "import math\n",
        "import pandas as pd\n",
        "import numpy as np"
      ],
      "execution_count": null,
      "outputs": []
    },
    {
      "cell_type": "code",
      "metadata": {
        "id": "E6FJ0kWVh0eH",
        "outputId": "149e1c30-deba-47f4-9bea-98860221a952",
        "colab": {
          "base_uri": "https://localhost:8080/",
          "height": 34
        }
      },
      "source": [
        "def my_trunc(num, decimals=4):\n",
        "    factor = 10**decimals\n",
        "    output = math.trunc(num*factor)/factor\n",
        "    return output\n",
        "my_trunc(1.123456789)"
      ],
      "execution_count": null,
      "outputs": [
        {
          "output_type": "execute_result",
          "data": {
            "text/plain": [
              "1.1234"
            ]
          },
          "metadata": {
            "tags": []
          },
          "execution_count": 43
        }
      ]
    },
    {
      "cell_type": "markdown",
      "metadata": {
        "id": "mmltHDIVh0fD"
      },
      "source": [
        "We can use math.sin() to find the sine of an angle in degree \n",
        "\n",
        "example: math.sin(3.14) -- returns sin 180\n",
        "\n",
        "To find the sin of an angle in degree\n",
        "\n",
        "We can use math.sin(math.radians(180))"
      ]
    },
    {
      "cell_type": "code",
      "metadata": {
        "id": "a9mSoXEsh0fG",
        "outputId": "5c6bc467-1131-4d02-caaf-6104b7eeda17",
        "colab": {
          "base_uri": "https://localhost:8080/",
          "height": 68
        }
      },
      "source": [
        "print('Sin pi/6 radians',math.sin(math.pi/6))\n",
        "print('Sin 30 degrees is', math.sin(math.radians(30)))\n",
        "print('e^x= ',math.exp(2))"
      ],
      "execution_count": null,
      "outputs": [
        {
          "output_type": "stream",
          "text": [
            "Sin pi/6 radians 0.49999999999999994\n",
            "Sin 30 degrees is 0.49999999999999994\n",
            "e^x=  7.38905609893065\n"
          ],
          "name": "stdout"
        }
      ]
    },
    {
      "cell_type": "markdown",
      "metadata": {
        "id": "Nt5QGpx-h0fV"
      },
      "source": [
        "# Calculating RK Method of 4th order (calculate separately for each increment in h)"
      ]
    },
    {
      "cell_type": "code",
      "metadata": {
        "id": "xVvo2CA6h0fW"
      },
      "source": [
        "#Write function here \n",
        "def func(x,y):\n",
        "    output = ((y**2)-(x**2))/((y**2)+(x**2))\n",
        "    return output"
      ],
      "execution_count": null,
      "outputs": []
    },
    {
      "cell_type": "code",
      "metadata": {
        "id": "w_OGwzCFh0ff",
        "outputId": "1b3bfab0-c8ea-4974-cc85-bc49bd02feb5",
        "colab": {
          "base_uri": "https://localhost:8080/",
          "height": 68
        }
      },
      "source": [
        "x0 = float(input('Enter the value of x0 '))\n",
        "y0 = float(input('Enter the value of y0 '))\n",
        "h = float(input('Enter the value of h '))"
      ],
      "execution_count": null,
      "outputs": [
        {
          "output_type": "stream",
          "text": [
            "Enter the value of x0 0\n",
            "Enter the value of y0 1\n",
            "Enter the value of h 0.5\n"
          ],
          "name": "stdout"
        }
      ]
    },
    {
      "cell_type": "code",
      "metadata": {
        "id": "gXEe0JPKh0fq"
      },
      "source": [
        "def rk_4(x,y,h, decimal = 4):\n",
        "    \"\"\"\"\n",
        "    This function calculates the RK method of 4th order\n",
        "    Inputs:\n",
        "    x = x0 of the function (given in the question)\n",
        "    y = y0 of the function (given in the question)\n",
        "    h = h of the function (given in the question or calculate yourself)\n",
        "    decimals = number of decimal places (optional). Default value = 4\n",
        "    prints the value of k1, k2, k3, k4 and final answer of the function truncated up to 4 decimal places\n",
        "    \"\"\"\n",
        "    k1 = h*func(x,y)\n",
        "    k2 = h*func((x+h/2), (y+(k1/2)))\n",
        "    k3 = h*func((x+h/2), (y+(k2/2)))\n",
        "    k4 = h*func((x+h), (y+k3))\n",
        "    k1= my_trunc(k1)\n",
        "    k2= my_trunc(k2)\n",
        "    k3= my_trunc(k3)\n",
        "    k4= my_trunc(k4)\n",
        "    final_ans = y+ (1/6*(k1+2*k2+2*k3+k4))\n",
        "    final_ans = my_trunc(final_ans)\n",
        "    print('K1 : {h}*f({x},{y}) = {k1}'.format(h=h, x= my_trunc(x), y= my_trunc(y),k1= my_trunc(k1)))\n",
        "    print('K2 : {h}*f({x},{y}) = {k2}'.format(h=h, x= my_trunc(x+(h/2)), y= my_trunc(y+(k1/2)),k2= my_trunc(k2)))\n",
        "    print('K3 : {h}*f({x},{y}) = {k3}'.format(h=h, x= my_trunc(x+(h/2)), y= my_trunc(y+(k2/2)), k3= my_trunc(k3)))\n",
        "    print('K4 : {h}*f({x},{y}) = {k4}'.format(h=h, x= my_trunc(x+h), y= my_trunc(y+k3),k4= my_trunc(k4)))\n",
        "    print('Answer ', final_ans)"
      ],
      "execution_count": null,
      "outputs": []
    },
    {
      "cell_type": "code",
      "metadata": {
        "id": "xv5jDN86h0f2",
        "outputId": "951a0184-5bbe-4998-c971-e2ef7c10e191",
        "colab": {
          "base_uri": "https://localhost:8080/",
          "height": 102
        }
      },
      "source": [
        "rk_4(x0,y0,h)"
      ],
      "execution_count": null,
      "outputs": [
        {
          "output_type": "stream",
          "text": [
            "K1 : 0.5*f(0.0,1.0) = 0.5\n",
            "K2 : 0.5*f(0.25,1.25) = 0.4615\n",
            "K3 : 0.5*f(0.25,1.2307) = 0.4603\n",
            "K4 : 0.5*f(0.5,1.4603) = 0.395\n",
            "Answer  1.4564\n"
          ],
          "name": "stdout"
        }
      ]
    },
    {
      "cell_type": "code",
      "metadata": {
        "id": "d8R1WQsqh0gC",
        "outputId": "3be8bda5-9413-40a1-f416-f472fce3eae5",
        "colab": {
          "base_uri": "https://localhost:8080/",
          "height": 102
        }
      },
      "source": [
        "rk_4(0.05,1.0498,0.05)"
      ],
      "execution_count": null,
      "outputs": [
        {
          "output_type": "stream",
          "text": [
            "K1 : 0.05*f(0.05,1.0498) = 0.0497\n",
            "K2 : 0.05*f(0.075,1.0746) = 0.0495\n",
            "K3 : 0.05*f(0.075,1.0745) = 0.0495\n",
            "K4 : 0.05*f(0.1,1.0993) = 0.0491\n",
            "Answer  1.0992\n"
          ],
          "name": "stdout"
        }
      ]
    },
    {
      "cell_type": "markdown",
      "metadata": {
        "id": "FeLHAXPOh0gK"
      },
      "source": [
        "# Calculating RK Method of second order (calculate separately for each increment in h)"
      ]
    },
    {
      "cell_type": "code",
      "metadata": {
        "id": "bI8Ri8u0h0gM"
      },
      "source": [
        "#Write function here\n",
        "def func(x,y):\n",
        "    output = 3*x + y**2\n",
        "    return output"
      ],
      "execution_count": null,
      "outputs": []
    },
    {
      "cell_type": "code",
      "metadata": {
        "id": "yQOs3EPvh0gV",
        "outputId": "3228d11c-7b78-44ef-c110-e22e0eea10ee",
        "colab": {
          "base_uri": "https://localhost:8080/",
          "height": 68
        }
      },
      "source": [
        "x0 = float(input('Enter the value of x0 '))\n",
        "y0 = float(input('Enter the value of y0 '))\n",
        "h = float(input('Enter the value of h '))"
      ],
      "execution_count": null,
      "outputs": [
        {
          "output_type": "stream",
          "text": [
            "Enter the value of x0 1\n",
            "Enter the value of y0 1.2\n",
            "Enter the value of h 0.1\n"
          ],
          "name": "stdout"
        }
      ]
    },
    {
      "cell_type": "code",
      "metadata": {
        "id": "UEk8R7_Hh0gc"
      },
      "source": [
        "def rk_2(x,y,h, decimals=4):\n",
        "    \"\"\"\"\n",
        "    This function calculates the RK method of 2nd order\n",
        "    Inputs:\n",
        "    x = x0 of the function (given in the question)\n",
        "    y = y0 of the function (given in the question)\n",
        "    h = h of the function (given in the question or calculate yourself)\n",
        "    decimals = number of decimal places (optional). Default value = 4\n",
        "    prints the value of k1, k2 and final answer of the function truncated up to 4 decimal places\n",
        "    \"\"\"\n",
        "    k1 =  h*func(x,y)\n",
        "    k2 = h*func(x+h, y+k1)\n",
        "    factor = 10**decimals\n",
        "    k1 = math.trunc(k1*factor)/factor\n",
        "    k2 = math.trunc(k2*factor)/factor\n",
        "    final_ans = y+(0.5*(k1+k2))\n",
        "    print('K1 : {h}*f({x},{y}) = {k1}'.format(x=x, y=y, h=h, k1= my_trunc(k1)))\n",
        "    print('K2 : {h}*f({x},{y}) = {k2}'.format(x= my_trunc(x+h), y= my_trunc(y+k1), h=h, k2= my_trunc(k2)))\n",
        "    print('Final Ans: ', my_trunc(final_ans))"
      ],
      "execution_count": null,
      "outputs": []
    },
    {
      "cell_type": "code",
      "metadata": {
        "id": "pF2AvrDZh0gn",
        "outputId": "e132cdd8-f162-4832-dcdc-e29fd4cb67df",
        "colab": {
          "base_uri": "https://localhost:8080/",
          "height": 68
        }
      },
      "source": [
        "rk_2(x0,y0,h)"
      ],
      "execution_count": null,
      "outputs": [
        {
          "output_type": "stream",
          "text": [
            "K1 : 0.1*f(1.0,1.2) = 0.4439\n",
            "K2 : 0.1*f(1.1,1.6439) = 0.6002\n",
            "Final Ans:  1.722\n"
          ],
          "name": "stdout"
        }
      ]
    },
    {
      "cell_type": "code",
      "metadata": {
        "id": "LpK99Kysh0gu",
        "outputId": "7ba46999-f062-42ae-808c-c2792df6e916",
        "colab": {
          "base_uri": "https://localhost:8080/",
          "height": 68
        }
      },
      "source": [
        "rk_2(1.1,1.7221,0.1)"
      ],
      "execution_count": null,
      "outputs": [
        {
          "output_type": "stream",
          "text": [
            "K1 : 0.1*f(1.1,1.7221) = 0.6264\n",
            "K2 : 0.1*f(1.2,2.3485) = 0.9116\n",
            "Final Ans:  2.4911\n"
          ],
          "name": "stdout"
        }
      ]
    },
    {
      "cell_type": "markdown",
      "metadata": {
        "id": "SD6tN81qh0g4"
      },
      "source": [
        "# Milne's Predictor and Corrector Method"
      ]
    },
    {
      "cell_type": "code",
      "metadata": {
        "id": "S5iYPwtJh0g6"
      },
      "source": [
        "#Write function here \n",
        "def func(x,y):\n",
        "    output = (2-(y**2))/(5*x)\n",
        "    return output"
      ],
      "execution_count": null,
      "outputs": []
    },
    {
      "cell_type": "code",
      "metadata": {
        "id": "DKbtk2DPh0hG",
        "outputId": "43239db1-8e01-4cb3-93ee-74b7824564b3",
        "colab": {
          "base_uri": "https://localhost:8080/",
          "height": 170
        }
      },
      "source": [
        "x0 = float(input('Enter the values for x0 '))\n",
        "y0=  float(input('Enter the values for y0 '))\n",
        "x1 = float(input('Enter the values for x1 '))\n",
        "y1=  float(input('Enter the values for y1 '))\n",
        "x2 = float(input('Enter the values for x2 '))\n",
        "y2=  float(input('Enter the values for y2 '))\n",
        "x3 = float(input('Enter the values for x3 '))\n",
        "y3=  float(input('Enter the values for y3 '))\n",
        "x4 = float(input('Enter the values for x4 '))\n",
        "h=x1-x0\n"
      ],
      "execution_count": null,
      "outputs": [
        {
          "output_type": "stream",
          "text": [
            "Enter the values for x0 4\n",
            "Enter the values for y0 1\n",
            "Enter the values for x1 4.1\n",
            "Enter the values for y1 1.0049\n",
            "Enter the values for x2 4.2\n",
            "Enter the values for y2 1.0097\n",
            "Enter the values for x3 4.3\n",
            "Enter the values for y3 1.0143\n",
            "Enter the values for x4 4.4\n"
          ],
          "name": "stdout"
        }
      ]
    },
    {
      "cell_type": "code",
      "metadata": {
        "id": "3q6dkVIhh0hV"
      },
      "source": [
        "def milnes_predictor_corrector(x0,x1,x2,x3,x4,y0,y1,y2,y3,h):\n",
        "    \"\"\"\"\n",
        "    This function calculates the Milne's predictor and corrector method\n",
        "    \"\"\"\n",
        "    f0 = my_trunc(func(x0,y0))\n",
        "    f1 = my_trunc(func(x1,y1))\n",
        "    f2 = my_trunc(func(x2,y2))\n",
        "    f3 = my_trunc(func(x3,y3))\n",
        "    x_list = [x0,x1,x2,x3]\n",
        "    func_list = [f0,f1,f2,f3]\n",
        "    milne_df = {'X':x_list, 'f(x)':func_list}\n",
        "    milne_df = pd.DataFrame(milne_df)\n",
        "    milne_df = milne_df.style.hide_index()\n",
        "    y4p = y0 + ((4*h)/3)*((2*f1)-f2+(2*f3))\n",
        "    f4 = func(x4,y4p)\n",
        "    y4c = y2 + (h/3)*(f2+(4*f3)+f4)\n",
        "    display(milne_df)\n",
        "    print('The value of y4p is {y4p}'.format(y4p = my_trunc(y4p)))\n",
        "    print('The value of f({x},{y}) at x4 is {f4}'.format(x=x4, y=my_trunc(y4p), \n",
        "                                                         f4 = my_trunc(f4)))\n",
        "    print('The value of y4c is {y4c}'.format(y4c = my_trunc(y4c)))"
      ],
      "execution_count": null,
      "outputs": []
    },
    {
      "cell_type": "code",
      "metadata": {
        "id": "UvLi02t0h0hd",
        "outputId": "979232df-3e11-449a-a6c6-edc3a2216cad",
        "colab": {
          "base_uri": "https://localhost:8080/",
          "height": 175
        }
      },
      "source": [
        "milnes_predictor_corrector(x0,x1,x2,x3,x4,y0,y1,y2,y3,h)"
      ],
      "execution_count": null,
      "outputs": [
        {
          "output_type": "display_data",
          "data": {
            "text/html": [
              "<style  type=\"text/css\" >\n",
              "</style><table id=\"T_958e8036_0948_11eb_a5fd_0242ac1c0002\" ><thead>    <tr>        <th class=\"col_heading level0 col0\" >X</th>        <th class=\"col_heading level0 col1\" >f(x)</th>    </tr></thead><tbody>\n",
              "                <tr>\n",
              "                                <td id=\"T_958e8036_0948_11eb_a5fd_0242ac1c0002row0_col0\" class=\"data row0 col0\" >4.000000</td>\n",
              "                        <td id=\"T_958e8036_0948_11eb_a5fd_0242ac1c0002row0_col1\" class=\"data row0 col1\" >0.050000</td>\n",
              "            </tr>\n",
              "            <tr>\n",
              "                                <td id=\"T_958e8036_0948_11eb_a5fd_0242ac1c0002row1_col0\" class=\"data row1 col0\" >4.100000</td>\n",
              "                        <td id=\"T_958e8036_0948_11eb_a5fd_0242ac1c0002row1_col1\" class=\"data row1 col1\" >0.048300</td>\n",
              "            </tr>\n",
              "            <tr>\n",
              "                                <td id=\"T_958e8036_0948_11eb_a5fd_0242ac1c0002row2_col0\" class=\"data row2 col0\" >4.200000</td>\n",
              "                        <td id=\"T_958e8036_0948_11eb_a5fd_0242ac1c0002row2_col1\" class=\"data row2 col1\" >0.046600</td>\n",
              "            </tr>\n",
              "            <tr>\n",
              "                                <td id=\"T_958e8036_0948_11eb_a5fd_0242ac1c0002row3_col0\" class=\"data row3 col0\" >4.300000</td>\n",
              "                        <td id=\"T_958e8036_0948_11eb_a5fd_0242ac1c0002row3_col1\" class=\"data row3 col1\" >0.045100</td>\n",
              "            </tr>\n",
              "    </tbody></table>"
            ],
            "text/plain": [
              "<pandas.io.formats.style.Styler at 0x7f43ff904198>"
            ]
          },
          "metadata": {
            "tags": []
          }
        },
        {
          "output_type": "stream",
          "text": [
            "The value of y4p is 1.0186\n",
            "The value of f(4.4,1.0186) at x4 is 0.0437\n",
            "The value of y4c is 1.0187\n"
          ],
          "name": "stdout"
        }
      ]
    },
    {
      "cell_type": "markdown",
      "metadata": {
        "id": "AoyzDwaXh0hq"
      },
      "source": [
        "# Trapezoidal Rule"
      ]
    },
    {
      "cell_type": "code",
      "metadata": {
        "id": "R6buy5i2h0hr"
      },
      "source": [
        "def func(x):\n",
        "    output = math.sqrt(math.sin(x)+math.cos(x))\n",
        "    return output "
      ],
      "execution_count": null,
      "outputs": []
    },
    {
      "cell_type": "code",
      "metadata": {
        "id": "kD0wA7Yuh0h7",
        "outputId": "de14e2bb-f79a-4441-a83a-1cf2b4603c71",
        "colab": {
          "base_uri": "https://localhost:8080/",
          "height": 68
        }
      },
      "source": [
        "x0 = float(input('Enter the lower limit '))\n",
        "x = float(input('Enter the upper limit '))\n",
        "n = float(input('Enter the number of intervals '))"
      ],
      "execution_count": null,
      "outputs": [
        {
          "output_type": "stream",
          "text": [
            "Enter the lower limit 0\n",
            "Enter the upper limit 2\n",
            "Enter the number of intervals 8\n"
          ],
          "name": "stdout"
        }
      ]
    },
    {
      "cell_type": "code",
      "metadata": {
        "id": "nqrFTRgVh0iP",
        "outputId": "f2bcbfdf-7a71-41d9-beb5-cfe7059c0792",
        "colab": {
          "base_uri": "https://localhost:8080/",
          "height": 328
        }
      },
      "source": [
        "h = (x-x0)/n\n",
        "x_list = np.arange(start = x0, stop = x+h, step = h)\n",
        "func_list = []\n",
        "for i in range(len(x_list)):\n",
        "    func_list.append(my_trunc(func(x_list[i])))\n",
        "trapezoidal_df = pd.DataFrame()\n",
        "trapezoidal_df['x'] = x_list\n",
        "trapezoidal_df['f(x)'] = func_list\n",
        "trapezoidal_df"
      ],
      "execution_count": null,
      "outputs": [
        {
          "output_type": "execute_result",
          "data": {
            "text/html": [
              "<div>\n",
              "<style scoped>\n",
              "    .dataframe tbody tr th:only-of-type {\n",
              "        vertical-align: middle;\n",
              "    }\n",
              "\n",
              "    .dataframe tbody tr th {\n",
              "        vertical-align: top;\n",
              "    }\n",
              "\n",
              "    .dataframe thead th {\n",
              "        text-align: right;\n",
              "    }\n",
              "</style>\n",
              "<table border=\"1\" class=\"dataframe\">\n",
              "  <thead>\n",
              "    <tr style=\"text-align: right;\">\n",
              "      <th></th>\n",
              "      <th>x</th>\n",
              "      <th>f(x)</th>\n",
              "    </tr>\n",
              "  </thead>\n",
              "  <tbody>\n",
              "    <tr>\n",
              "      <th>0</th>\n",
              "      <td>0.00</td>\n",
              "      <td>1.0000</td>\n",
              "    </tr>\n",
              "    <tr>\n",
              "      <th>1</th>\n",
              "      <td>0.25</td>\n",
              "      <td>1.1028</td>\n",
              "    </tr>\n",
              "    <tr>\n",
              "      <th>2</th>\n",
              "      <td>0.50</td>\n",
              "      <td>1.1649</td>\n",
              "    </tr>\n",
              "    <tr>\n",
              "      <th>3</th>\n",
              "      <td>0.75</td>\n",
              "      <td>1.1888</td>\n",
              "    </tr>\n",
              "    <tr>\n",
              "      <th>4</th>\n",
              "      <td>1.00</td>\n",
              "      <td>1.1754</td>\n",
              "    </tr>\n",
              "    <tr>\n",
              "      <th>5</th>\n",
              "      <td>1.25</td>\n",
              "      <td>1.1244</td>\n",
              "    </tr>\n",
              "    <tr>\n",
              "      <th>6</th>\n",
              "      <td>1.50</td>\n",
              "      <td>1.0335</td>\n",
              "    </tr>\n",
              "    <tr>\n",
              "      <th>7</th>\n",
              "      <td>1.75</td>\n",
              "      <td>0.8976</td>\n",
              "    </tr>\n",
              "    <tr>\n",
              "      <th>8</th>\n",
              "      <td>2.00</td>\n",
              "      <td>0.7022</td>\n",
              "    </tr>\n",
              "  </tbody>\n",
              "</table>\n",
              "</div>"
            ],
            "text/plain": [
              "      x    f(x)\n",
              "0  0.00  1.0000\n",
              "1  0.25  1.1028\n",
              "2  0.50  1.1649\n",
              "3  0.75  1.1888\n",
              "4  1.00  1.1754\n",
              "5  1.25  1.1244\n",
              "6  1.50  1.0335\n",
              "7  1.75  0.8976\n",
              "8  2.00  0.7022"
            ]
          },
          "metadata": {
            "tags": []
          },
          "execution_count": 20
        }
      ]
    },
    {
      "cell_type": "code",
      "metadata": {
        "id": "3huG8JHyh0iZ",
        "outputId": "5f4c529e-56b4-49fc-a252-d9b6197ce57d",
        "colab": {
          "base_uri": "https://localhost:8080/",
          "height": 34
        }
      },
      "source": [
        "sum_end = my_trunc(func_list[0] + func_list[len(func_list)-1])\n",
        "sum_remaining = my_trunc(np.sum(func_list[1:-1]))\n",
        "ans = my_trunc((h/2)*(sum_end + 2*(sum_remaining)))\n",
        "print('ans = {h}/2 * ({sum_end} + 2*({sum_remaining})) = {ans}'.format(h = h, sum_end = sum_end, sum_remaining = sum_remaining,\n",
        "                                                                      ans = ans)) "
      ],
      "execution_count": null,
      "outputs": [
        {
          "output_type": "stream",
          "text": [
            "ans = 0.25/2 * (1.7022 + 2*(7.6874)) = 2.1346\n"
          ],
          "name": "stdout"
        }
      ]
    },
    {
      "cell_type": "markdown",
      "metadata": {
        "id": "I9SFs3cRh0ig"
      },
      "source": [
        "# Simpson's 1/3  Rule "
      ]
    },
    {
      "cell_type": "code",
      "metadata": {
        "id": "fVsuoQPnh0ih"
      },
      "source": [
        "def func(x):\n",
        "    output = 1/((4*x)+5)\n",
        "    return output "
      ],
      "execution_count": null,
      "outputs": []
    },
    {
      "cell_type": "code",
      "metadata": {
        "id": "3yCU3fmjh0it",
        "outputId": "c6c85712-b671-4bd8-a14f-1a0739644ed6",
        "colab": {
          "base_uri": "https://localhost:8080/",
          "height": 68
        }
      },
      "source": [
        "x0 = float(input('Enter the lower limit '))\n",
        "x = float(input('Enter the upper limit '))\n",
        "n = float(input('Enter the number of intervals '))"
      ],
      "execution_count": null,
      "outputs": [
        {
          "output_type": "stream",
          "text": [
            "Enter the lower limit 0\n",
            "Enter the upper limit 5\n",
            "Enter the number of intervals 8\n"
          ],
          "name": "stdout"
        }
      ]
    },
    {
      "cell_type": "code",
      "metadata": {
        "id": "x4BpsbuBh0i-",
        "outputId": "b73e4b41-cc02-4b89-bcd7-30fd93d81895",
        "colab": {
          "base_uri": "https://localhost:8080/",
          "height": 328
        }
      },
      "source": [
        "h = (x-x0)/n\n",
        "x_list = np.arange(start = x0, stop = x+h, step = h)\n",
        "func_list = []\n",
        "for i in range(len(x_list)):\n",
        "    func_list.append(my_trunc(func(x_list[i])))\n",
        "simpson_df = pd.DataFrame()\n",
        "simpson_df['X'] = x_list\n",
        "simpson_df['f(X)'] = func_list\n",
        "simpson_df"
      ],
      "execution_count": null,
      "outputs": [
        {
          "output_type": "execute_result",
          "data": {
            "text/html": [
              "<div>\n",
              "<style scoped>\n",
              "    .dataframe tbody tr th:only-of-type {\n",
              "        vertical-align: middle;\n",
              "    }\n",
              "\n",
              "    .dataframe tbody tr th {\n",
              "        vertical-align: top;\n",
              "    }\n",
              "\n",
              "    .dataframe thead th {\n",
              "        text-align: right;\n",
              "    }\n",
              "</style>\n",
              "<table border=\"1\" class=\"dataframe\">\n",
              "  <thead>\n",
              "    <tr style=\"text-align: right;\">\n",
              "      <th></th>\n",
              "      <th>X</th>\n",
              "      <th>f(X)</th>\n",
              "    </tr>\n",
              "  </thead>\n",
              "  <tbody>\n",
              "    <tr>\n",
              "      <th>0</th>\n",
              "      <td>0.000</td>\n",
              "      <td>0.2000</td>\n",
              "    </tr>\n",
              "    <tr>\n",
              "      <th>1</th>\n",
              "      <td>0.625</td>\n",
              "      <td>0.1333</td>\n",
              "    </tr>\n",
              "    <tr>\n",
              "      <th>2</th>\n",
              "      <td>1.250</td>\n",
              "      <td>0.1000</td>\n",
              "    </tr>\n",
              "    <tr>\n",
              "      <th>3</th>\n",
              "      <td>1.875</td>\n",
              "      <td>0.0800</td>\n",
              "    </tr>\n",
              "    <tr>\n",
              "      <th>4</th>\n",
              "      <td>2.500</td>\n",
              "      <td>0.0666</td>\n",
              "    </tr>\n",
              "    <tr>\n",
              "      <th>5</th>\n",
              "      <td>3.125</td>\n",
              "      <td>0.0571</td>\n",
              "    </tr>\n",
              "    <tr>\n",
              "      <th>6</th>\n",
              "      <td>3.750</td>\n",
              "      <td>0.0500</td>\n",
              "    </tr>\n",
              "    <tr>\n",
              "      <th>7</th>\n",
              "      <td>4.375</td>\n",
              "      <td>0.0444</td>\n",
              "    </tr>\n",
              "    <tr>\n",
              "      <th>8</th>\n",
              "      <td>5.000</td>\n",
              "      <td>0.0400</td>\n",
              "    </tr>\n",
              "  </tbody>\n",
              "</table>\n",
              "</div>"
            ],
            "text/plain": [
              "       X    f(X)\n",
              "0  0.000  0.2000\n",
              "1  0.625  0.1333\n",
              "2  1.250  0.1000\n",
              "3  1.875  0.0800\n",
              "4  2.500  0.0666\n",
              "5  3.125  0.0571\n",
              "6  3.750  0.0500\n",
              "7  4.375  0.0444\n",
              "8  5.000  0.0400"
            ]
          },
          "metadata": {
            "tags": []
          },
          "execution_count": 25
        }
      ]
    },
    {
      "cell_type": "code",
      "metadata": {
        "id": "NtRaDgvEh0jI",
        "outputId": "84db8c0a-531e-4803-f996-56b8e9872576",
        "colab": {
          "base_uri": "https://localhost:8080/",
          "height": 34
        }
      },
      "source": [
        "h = (x-x0)/n\n",
        "sum_end = my_trunc(func_list[0] + func_list[len(func_list)-1])\n",
        "sum_even_list = []\n",
        "sum_odd_list = []\n",
        "for i in range(1, len(func_list)-1):\n",
        "    if i%2 == 0:\n",
        "        sum_even_list.append(func_list[i])\n",
        "    else:\n",
        "        sum_odd_list.append(func_list[i])\n",
        "sum_even = my_trunc(np.sum(sum_even_list))\n",
        "sum_odd = my_trunc(np.sum(sum_odd_list))\n",
        "ans = my_trunc((h/3)*(sum_end + 2*(sum_even)+4*(sum_odd)))\n",
        "print('ans = {h}/3 * ({sum_end} + 2*({sum_even}) + 4*({sum_odd}))= {ans}'.format(h = h, sum_end = sum_end, sum_even = sum_even, \n",
        "                                                                          sum_odd = sum_odd, ans = ans))"
      ],
      "execution_count": null,
      "outputs": [
        {
          "output_type": "stream",
          "text": [
            "ans = 0.625/3 * (0.24 + 2*(0.2166) + 4*(0.3147))= 0.4025\n"
          ],
          "name": "stdout"
        }
      ]
    },
    {
      "cell_type": "markdown",
      "metadata": {
        "id": "lo3waYHrh0jP"
      },
      "source": [
        "# Simpson's 3/8 rule"
      ]
    },
    {
      "cell_type": "code",
      "metadata": {
        "id": "1DCLpn9ah0jR"
      },
      "source": [
        "def func(x):\n",
        "    output = math.sqrt(1-(8*(x**3)))\n",
        "    return output "
      ],
      "execution_count": null,
      "outputs": []
    },
    {
      "cell_type": "code",
      "metadata": {
        "id": "6xJ_XapQh0jY",
        "outputId": "eda83b18-72df-411c-d45b-b6ec469e1e0d",
        "colab": {
          "base_uri": "https://localhost:8080/",
          "height": 68
        }
      },
      "source": [
        "x0 = float(input('Enter the lower limit '))\n",
        "x = float(input('Enter the upper limit '))\n",
        "n = float(input('Enter the number of intervals '))"
      ],
      "execution_count": null,
      "outputs": [
        {
          "output_type": "stream",
          "text": [
            "Enter the lower limit 0\n",
            "Enter the upper limit 0.3\n",
            "Enter the number of intervals 6\n"
          ],
          "name": "stdout"
        }
      ]
    },
    {
      "cell_type": "code",
      "metadata": {
        "id": "QRN0T6zLh0jh",
        "outputId": "7e059aab-1fc0-491d-98f5-d460c6074826",
        "colab": {
          "base_uri": "https://localhost:8080/",
          "height": 266
        }
      },
      "source": [
        "h = (x-x0)/n\n",
        "x_list = np.arange(start = x0, stop = x+h, step=h)\n",
        "func_list = []\n",
        "for i in range(len(x_list)):\n",
        "    func_list.append(my_trunc(func(x_list[i])))\n",
        "simpson3_8_df = pd.DataFrame()\n",
        "simpson3_8_df['x'] = x_list\n",
        "simpson3_8_df['f(x)'] = func_list\n",
        "simpson3_8_df"
      ],
      "execution_count": null,
      "outputs": [
        {
          "output_type": "execute_result",
          "data": {
            "text/html": [
              "<div>\n",
              "<style scoped>\n",
              "    .dataframe tbody tr th:only-of-type {\n",
              "        vertical-align: middle;\n",
              "    }\n",
              "\n",
              "    .dataframe tbody tr th {\n",
              "        vertical-align: top;\n",
              "    }\n",
              "\n",
              "    .dataframe thead th {\n",
              "        text-align: right;\n",
              "    }\n",
              "</style>\n",
              "<table border=\"1\" class=\"dataframe\">\n",
              "  <thead>\n",
              "    <tr style=\"text-align: right;\">\n",
              "      <th></th>\n",
              "      <th>x</th>\n",
              "      <th>f(x)</th>\n",
              "    </tr>\n",
              "  </thead>\n",
              "  <tbody>\n",
              "    <tr>\n",
              "      <th>0</th>\n",
              "      <td>0.00</td>\n",
              "      <td>1.0000</td>\n",
              "    </tr>\n",
              "    <tr>\n",
              "      <th>1</th>\n",
              "      <td>0.05</td>\n",
              "      <td>0.9994</td>\n",
              "    </tr>\n",
              "    <tr>\n",
              "      <th>2</th>\n",
              "      <td>0.10</td>\n",
              "      <td>0.9959</td>\n",
              "    </tr>\n",
              "    <tr>\n",
              "      <th>3</th>\n",
              "      <td>0.15</td>\n",
              "      <td>0.9864</td>\n",
              "    </tr>\n",
              "    <tr>\n",
              "      <th>4</th>\n",
              "      <td>0.20</td>\n",
              "      <td>0.9674</td>\n",
              "    </tr>\n",
              "    <tr>\n",
              "      <th>5</th>\n",
              "      <td>0.25</td>\n",
              "      <td>0.9354</td>\n",
              "    </tr>\n",
              "    <tr>\n",
              "      <th>6</th>\n",
              "      <td>0.30</td>\n",
              "      <td>0.8854</td>\n",
              "    </tr>\n",
              "  </tbody>\n",
              "</table>\n",
              "</div>"
            ],
            "text/plain": [
              "      x    f(x)\n",
              "0  0.00  1.0000\n",
              "1  0.05  0.9994\n",
              "2  0.10  0.9959\n",
              "3  0.15  0.9864\n",
              "4  0.20  0.9674\n",
              "5  0.25  0.9354\n",
              "6  0.30  0.8854"
            ]
          },
          "metadata": {
            "tags": []
          },
          "execution_count": 29
        }
      ]
    },
    {
      "cell_type": "code",
      "metadata": {
        "id": "yEHSD_Xbh0jm",
        "outputId": "a3c52ce1-8fe3-4374-b5ab-07b0de6712c5",
        "colab": {
          "base_uri": "https://localhost:8080/",
          "height": 34
        }
      },
      "source": [
        "sum_3 = []\n",
        "sum_remaining = []\n",
        "sum_end = my_trunc(func_list[0] + func_list[len(func_list)-1])\n",
        "for i in range(1, len(func_list)-1):\n",
        "    if i % 3 == 0:\n",
        "        sum_3.append(func_list[i])\n",
        "    else:\n",
        "        sum_remaining.append(func_list[i])\n",
        "sum_num_3 = my_trunc(np.sum(sum_3))\n",
        "sum_num_remaining = my_trunc(np.sum(sum_remaining))\n",
        "ans = my_trunc((3*h/8)*(sum_end + 3*(sum_num_remaining)+2*(sum_num_3)))\n",
        "print('ans = (3*{h})/8 * ({sum_end} + 3*({sum_num_remaining})+ 2*({sum_num_3})) = {ans}'.format(h=h, sum_end = sum_end,\n",
        "                                                sum_num_remaining = sum_num_remaining, sum_num_3 = sum_num_3, ans=ans))"
      ],
      "execution_count": null,
      "outputs": [
        {
          "output_type": "stream",
          "text": [
            "ans = (3*0.049999999999999996)/8 * (1.8854 + 3*(3.8981)+ 2*(0.9864)) = 0.2916\n"
          ],
          "name": "stdout"
        }
      ]
    },
    {
      "cell_type": "markdown",
      "metadata": {
        "id": "CuvJnXfnh0jt"
      },
      "source": [
        "# Boole's Rule"
      ]
    },
    {
      "cell_type": "code",
      "metadata": {
        "id": "VvBiU_gTh0ju"
      },
      "source": [
        "def func(x):\n",
        "    output = 1+(math.exp(-x)*math.sin(4*x))\n",
        "    return output "
      ],
      "execution_count": null,
      "outputs": []
    },
    {
      "cell_type": "code",
      "metadata": {
        "id": "pfE9k1Hrh0j3",
        "outputId": "93d35efb-07b5-422f-c7d1-2c20c1c6a1ad",
        "colab": {
          "base_uri": "https://localhost:8080/",
          "height": 68
        }
      },
      "source": [
        "x0 = float(input('Enter the lower limit '))\n",
        "x = float(input('Enter the upper limit '))\n",
        "n = float(input('Enter the number of intervals '))"
      ],
      "execution_count": null,
      "outputs": [
        {
          "output_type": "stream",
          "text": [
            "Enter the lower limit 0\n",
            "Enter the upper limit 1\n",
            "Enter the number of intervals 8\n"
          ],
          "name": "stdout"
        }
      ]
    },
    {
      "cell_type": "code",
      "metadata": {
        "id": "mV_eA5USh0j9",
        "outputId": "5c11ad1e-066c-4576-d0cb-a1228289d668",
        "colab": {
          "base_uri": "https://localhost:8080/",
          "height": 328
        }
      },
      "source": [
        "h = (x-x0)/n\n",
        "x_list = np.arange(start = x0, stop = x+h, step = h)\n",
        "func_list = []\n",
        "for i in range(len(x_list)):\n",
        "    func_list.append(my_trunc(func(x_list[i])))\n",
        "boole_df = pd.DataFrame()\n",
        "boole_df['x'] = x_list\n",
        "boole_df['f(x)'] = func_list\n",
        "boole_df"
      ],
      "execution_count": null,
      "outputs": [
        {
          "output_type": "execute_result",
          "data": {
            "text/html": [
              "<div>\n",
              "<style scoped>\n",
              "    .dataframe tbody tr th:only-of-type {\n",
              "        vertical-align: middle;\n",
              "    }\n",
              "\n",
              "    .dataframe tbody tr th {\n",
              "        vertical-align: top;\n",
              "    }\n",
              "\n",
              "    .dataframe thead th {\n",
              "        text-align: right;\n",
              "    }\n",
              "</style>\n",
              "<table border=\"1\" class=\"dataframe\">\n",
              "  <thead>\n",
              "    <tr style=\"text-align: right;\">\n",
              "      <th></th>\n",
              "      <th>x</th>\n",
              "      <th>f(x)</th>\n",
              "    </tr>\n",
              "  </thead>\n",
              "  <tbody>\n",
              "    <tr>\n",
              "      <th>0</th>\n",
              "      <td>0.000</td>\n",
              "      <td>1.0000</td>\n",
              "    </tr>\n",
              "    <tr>\n",
              "      <th>1</th>\n",
              "      <td>0.125</td>\n",
              "      <td>1.4230</td>\n",
              "    </tr>\n",
              "    <tr>\n",
              "      <th>2</th>\n",
              "      <td>0.250</td>\n",
              "      <td>1.6553</td>\n",
              "    </tr>\n",
              "    <tr>\n",
              "      <th>3</th>\n",
              "      <td>0.375</td>\n",
              "      <td>1.6855</td>\n",
              "    </tr>\n",
              "    <tr>\n",
              "      <th>4</th>\n",
              "      <td>0.500</td>\n",
              "      <td>1.5515</td>\n",
              "    </tr>\n",
              "    <tr>\n",
              "      <th>5</th>\n",
              "      <td>0.625</td>\n",
              "      <td>1.3203</td>\n",
              "    </tr>\n",
              "    <tr>\n",
              "      <th>6</th>\n",
              "      <td>0.750</td>\n",
              "      <td>1.0666</td>\n",
              "    </tr>\n",
              "    <tr>\n",
              "      <th>7</th>\n",
              "      <td>0.875</td>\n",
              "      <td>0.8537</td>\n",
              "    </tr>\n",
              "    <tr>\n",
              "      <th>8</th>\n",
              "      <td>1.000</td>\n",
              "      <td>0.7215</td>\n",
              "    </tr>\n",
              "  </tbody>\n",
              "</table>\n",
              "</div>"
            ],
            "text/plain": [
              "       x    f(x)\n",
              "0  0.000  1.0000\n",
              "1  0.125  1.4230\n",
              "2  0.250  1.6553\n",
              "3  0.375  1.6855\n",
              "4  0.500  1.5515\n",
              "5  0.625  1.3203\n",
              "6  0.750  1.0666\n",
              "7  0.875  0.8537\n",
              "8  1.000  0.7215"
            ]
          },
          "metadata": {
            "tags": []
          },
          "execution_count": 34
        }
      ]
    },
    {
      "cell_type": "code",
      "metadata": {
        "id": "nfur1-QZh0kB",
        "outputId": "72104e05-6ba1-49e1-e157-15d5093b46bd",
        "colab": {
          "base_uri": "https://localhost:8080/",
          "height": 34
        }
      },
      "source": [
        "h = (x-x0)/n\n",
        "zero = func_list[0]\n",
        "first = func_list[1]\n",
        "second = func_list[2]\n",
        "third = func_list[3]\n",
        "fourth = func_list[4]\n",
        "if n == 4:\n",
        "    ans = my_trunc(((2*h)/45)*(7*(zero)+ 32*(first)+ 12*(second)+ 32*(third)+ 14*(fourth)))\n",
        "elif n == 8:\n",
        "    fifth = func_list[5]\n",
        "    sixth = func_list[6]\n",
        "    seventh = func_list[7]\n",
        "    eigth = func_list[8]\n",
        "    ans = my_trunc(((2*h)/45)*(7*(zero)+ 32*(first)+ 12*(second)+ 32*(third)+ 14*(fourth)+ 32*(fifth)+12*(sixth)+32*(seventh)+14*(eigth)))\n",
        "\n",
        "print(ans)"
      ],
      "execution_count": null,
      "outputs": [
        {
          "output_type": "stream",
          "text": [
            "1.3362\n"
          ],
          "name": "stdout"
        }
      ]
    },
    {
      "cell_type": "markdown",
      "metadata": {
        "id": "7-tqeNsdh0kG"
      },
      "source": [
        "# Weddle's Rule"
      ]
    },
    {
      "cell_type": "code",
      "metadata": {
        "id": "8FN_6L2Fh0kH"
      },
      "source": [
        "def func(x):\n",
        "    output = math.log(x, np.e) #log(num, base)\n",
        "    return output "
      ],
      "execution_count": null,
      "outputs": []
    },
    {
      "cell_type": "code",
      "metadata": {
        "id": "gVwVDAY9h0kP",
        "outputId": "37fa48bb-98fe-48d7-e810-509a8cc1fa4c",
        "colab": {
          "base_uri": "https://localhost:8080/",
          "height": 51
        }
      },
      "source": [
        "x0 = float(input('Enter the lower limit '))\n",
        "x = float(input('Enter the upper limit '))\n",
        "n = 6"
      ],
      "execution_count": null,
      "outputs": [
        {
          "output_type": "stream",
          "text": [
            "Enter the lower limit 4\n",
            "Enter the upper limit 5.2\n"
          ],
          "name": "stdout"
        }
      ]
    },
    {
      "cell_type": "code",
      "metadata": {
        "id": "syP3DFbPh0kU",
        "outputId": "bbb05757-d665-441f-e83b-f40519222b07",
        "colab": {
          "base_uri": "https://localhost:8080/",
          "height": 266
        }
      },
      "source": [
        "h = (x-x0)/n\n",
        "x_list = np.arange(start = x0, stop = x+h, step = h)\n",
        "func_list = []\n",
        "for i in range(len(x_list)):\n",
        "    func_list.append(my_trunc(func(x_list[i])))\n",
        "weddle_df = pd.DataFrame()\n",
        "weddle_df['x'] = x_list\n",
        "weddle_df['f(x)'] = func_list\n",
        "weddle_df"
      ],
      "execution_count": null,
      "outputs": [
        {
          "output_type": "execute_result",
          "data": {
            "text/html": [
              "<div>\n",
              "<style scoped>\n",
              "    .dataframe tbody tr th:only-of-type {\n",
              "        vertical-align: middle;\n",
              "    }\n",
              "\n",
              "    .dataframe tbody tr th {\n",
              "        vertical-align: top;\n",
              "    }\n",
              "\n",
              "    .dataframe thead th {\n",
              "        text-align: right;\n",
              "    }\n",
              "</style>\n",
              "<table border=\"1\" class=\"dataframe\">\n",
              "  <thead>\n",
              "    <tr style=\"text-align: right;\">\n",
              "      <th></th>\n",
              "      <th>x</th>\n",
              "      <th>f(x)</th>\n",
              "    </tr>\n",
              "  </thead>\n",
              "  <tbody>\n",
              "    <tr>\n",
              "      <th>0</th>\n",
              "      <td>4.0</td>\n",
              "      <td>1.3862</td>\n",
              "    </tr>\n",
              "    <tr>\n",
              "      <th>1</th>\n",
              "      <td>4.2</td>\n",
              "      <td>1.4350</td>\n",
              "    </tr>\n",
              "    <tr>\n",
              "      <th>2</th>\n",
              "      <td>4.4</td>\n",
              "      <td>1.4816</td>\n",
              "    </tr>\n",
              "    <tr>\n",
              "      <th>3</th>\n",
              "      <td>4.6</td>\n",
              "      <td>1.5260</td>\n",
              "    </tr>\n",
              "    <tr>\n",
              "      <th>4</th>\n",
              "      <td>4.8</td>\n",
              "      <td>1.5686</td>\n",
              "    </tr>\n",
              "    <tr>\n",
              "      <th>5</th>\n",
              "      <td>5.0</td>\n",
              "      <td>1.6094</td>\n",
              "    </tr>\n",
              "    <tr>\n",
              "      <th>6</th>\n",
              "      <td>5.2</td>\n",
              "      <td>1.6486</td>\n",
              "    </tr>\n",
              "  </tbody>\n",
              "</table>\n",
              "</div>"
            ],
            "text/plain": [
              "     x    f(x)\n",
              "0  4.0  1.3862\n",
              "1  4.2  1.4350\n",
              "2  4.4  1.4816\n",
              "3  4.6  1.5260\n",
              "4  4.8  1.5686\n",
              "5  5.0  1.6094\n",
              "6  5.2  1.6486"
            ]
          },
          "metadata": {
            "tags": []
          },
          "execution_count": 38
        }
      ]
    },
    {
      "cell_type": "code",
      "metadata": {
        "id": "LymGDnJgh0kX",
        "outputId": "5e03fcbb-593c-4c2d-a718-708b2426aa89",
        "colab": {
          "base_uri": "https://localhost:8080/",
          "height": 34
        }
      },
      "source": [
        "ans = ((3*h)/10)*(func_list[0]+ 5*(func_list[1])+ 1*(func_list[2])+ 6*(func_list[3])+ 1*(func_list[4]) + 5*(func_list[5]) +\n",
        "                  2*(func_list[6]))\n",
        "\n",
        "print(my_trunc(ans))"
      ],
      "execution_count": null,
      "outputs": [
        {
          "output_type": "stream",
          "text": [
            "1.9266\n"
          ],
          "name": "stdout"
        }
      ]
    },
    {
      "cell_type": "markdown",
      "metadata": {
        "id": "kttXkwVwh0kc"
      },
      "source": [
        "# Eulers "
      ]
    },
    {
      "cell_type": "code",
      "metadata": {
        "id": "xTEBsgcvh0kd"
      },
      "source": [
        "def func(x,y):\n",
        "    output = (-x)*(y**2)\n",
        "    return output "
      ],
      "execution_count": null,
      "outputs": []
    },
    {
      "cell_type": "code",
      "metadata": {
        "id": "SWQaEUmVh0kg",
        "outputId": "a36a61f9-7783-4f8c-8be5-8271319b2b04",
        "colab": {
          "base_uri": "https://localhost:8080/",
          "height": 85
        }
      },
      "source": [
        "x0 = float(input('Enter the lower limit '))\n",
        "x = float(input('Enter the upper limit '))\n",
        "y0 = float(input('Enter the value of y0 '))\n",
        "n = float(input('Enter the value of n '))"
      ],
      "execution_count": null,
      "outputs": [
        {
          "output_type": "stream",
          "text": [
            "Enter the lower limit 2\n",
            "Enter the upper limit 2.2\n",
            "Enter the value of y0 1\n",
            "Enter the value of n 4\n"
          ],
          "name": "stdout"
        }
      ]
    },
    {
      "cell_type": "code",
      "metadata": {
        "id": "EI3lNRBrkJLQ"
      },
      "source": [
        "h = (x-x0)/(n)\n",
        "x_list = np.arange(start = x0, stop = x+h, step = h)\n",
        "for i in range(len(x_list)):\n",
        "    x_list[i] = float(x_list[i])\n",
        "ans_list = []\n",
        "def eulers(x,y0,h):\n",
        "    for i in range(len(x_list)-1):\n",
        "        yn = y0+ h*func(x_list[i],y0)\n",
        "        y0 = yn\n",
        "        ans_list.append(yn)\n",
        "        print('y{n} = {ans}'.format(ans=my_trunc(yn), n=i+1))"
      ],
      "execution_count": null,
      "outputs": []
    },
    {
      "cell_type": "code",
      "metadata": {
        "id": "ezmtrvnTkZU-",
        "outputId": "e32ad6a1-7c1f-458a-bc29-b649e10d8384",
        "colab": {
          "base_uri": "https://localhost:8080/",
          "height": 85
        }
      },
      "source": [
        "eulers(2,1,0.05)"
      ],
      "execution_count": null,
      "outputs": [
        {
          "output_type": "stream",
          "text": [
            "y1 = 0.9\n",
            "y2 = 0.8169\n",
            "y3 = 0.7468\n",
            "y4 = 0.6869\n"
          ],
          "name": "stdout"
        }
      ]
    },
    {
      "cell_type": "markdown",
      "metadata": {
        "id": "LQlWqguuh0lI"
      },
      "source": [
        "Steps to convert x_list and func_list into a dataframe \n",
        "\n",
        "```\n",
        "df_name = pd.DataFrame() #initializing a dataframe\n",
        "df_name['x'] = x_list \n",
        "df_name['f(x)'] = func_list\n",
        "df_name \n",
        "```\n",
        "\n",
        "This is similar to \n",
        "```\n",
        "df_name = data.frame()\n",
        "df_name$x = x_list\n",
        "df_name$f(x) = func_list\n",
        "df_name\n",
        "```\n",
        "In R "
      ]
    },
    {
      "cell_type": "markdown",
      "metadata": {
        "id": "9h4tRUWqlkch"
      },
      "source": [
        ""
      ]
    }
  ]
}